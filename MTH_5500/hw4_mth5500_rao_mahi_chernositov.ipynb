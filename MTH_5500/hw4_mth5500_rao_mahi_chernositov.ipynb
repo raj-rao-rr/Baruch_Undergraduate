{
 "cells": [
  {
   "cell_type": "markdown",
   "metadata": {},
   "source": [
    "## Homework 4 - Numerical "
   ]
  },
  {
   "cell_type": "code",
   "execution_count": 1,
   "metadata": {},
   "outputs": [],
   "source": [
    "import math\n",
    "import numpy as np \n",
    "import matplotlib.pyplot as plt \n",
    "plt.style.use('seaborn')\n",
    "%matplotlib inline"
   ]
  },
  {
   "cell_type": "code",
   "execution_count": 2,
   "metadata": {},
   "outputs": [],
   "source": [
    "np.random.seed(0)"
   ]
  },
  {
   "cell_type": "markdown",
   "metadata": {},
   "source": [
    "## Gambler’s ruin at the French Roulette\n",
    "Consider the scenario where you are gambling 1 at the French Roulette on the Reds. Therefore you gain 1 with probability 18/38 and you lose a dollar with probability 20/38. The goal is to estimate the probability of your fortune to reach 200 before it reaches 0."
   ]
  },
  {
   "cell_type": "code",
   "execution_count": 3,
   "metadata": {},
   "outputs": [],
   "source": [
    "success = 18/38"
   ]
  },
  {
   "cell_type": "code",
   "execution_count": 4,
   "metadata": {},
   "outputs": [],
   "source": [
    "size = 50_000"
   ]
  },
  {
   "cell_type": "markdown",
   "metadata": {},
   "source": [
    "#### (a) Write a program in Python to simulate the game as a random walk path from time 0 to time 50,000 if you start with 100."
   ]
  },
  {
   "cell_type": "code",
   "execution_count": 5,
   "metadata": {},
   "outputs": [
    {
     "data": {
      "text/plain": [
       "[<matplotlib.lines.Line2D at 0x1c4e4ed8e48>]"
      ]
     },
     "execution_count": 5,
     "metadata": {},
     "output_type": "execute_result"
    },
    {
     "data": {
      "image/png": "[encoded data removed]",
      "text/plain": [
       "<Figure size 1080x360 with 1 Axes>"
      ]
     },
     "metadata": {
      "needs_background": "light"
     },
     "output_type": "display_data"
    }
   ],
   "source": [
    "plt.figure(figsize=(15,5))\n",
    "plt.xlabel('Time Stamps')\n",
    "plt.ylabel('Cummulative Dollar Return')\n",
    "plt.title(\"Single Path of Gambler's ruin at Roulette\")\n",
    "\n",
    "# generates 50000 uniforms to determine when the player wins or loses\n",
    "a = np.random.uniform(low=0.0,high=1.0,size=size)\n",
    "# generates cummulative sum, after defining points where we increment by 1 or lose money by 1\n",
    "sample = np.cumsum(np.insert(np.where(a < success, 1, -1),0,100))\n",
    "plt.plot(np.where(sample < 0, 0, sample))"
   ]
  },
  {
   "cell_type": "markdown",
   "metadata": {},
   "source": [
    "#### (b) Use the above to estimate the probability of reaching 200 before 0 on a sample of 10,000 paths if you start with 100."
   ]
  },
  {
   "cell_type": "code",
   "execution_count": 11,
   "metadata": {},
   "outputs": [
    {
     "name": "stdout",
     "output_type": "stream",
     "text": [
      "===========================================================================\n",
      "The probability of hitting 200 before 0 is 0.0\n",
      "===========================================================================\n"
     ]
    }
   ],
   "source": [
    "hit_2b1 = 0\n",
    "\n",
    "for _ in range(10_000):\n",
    "    # generate path of the simulation, starting at 100\n",
    "    a = np.random.uniform(low=0.0,high=1.0,size=size)\n",
    "    v = np.cumsum(np.insert(np.where(a < success, 1, -1),0,100))\n",
    "    temp = v[1:]  # checks to see the sequence after starting \n",
    "    \n",
    "    # check to see if the path reaches 200 at anytime after first step \n",
    "    a1 = np.argwhere(temp==200)\n",
    "    \n",
    "    # if 200 is reached we check to see the position of the occurence \n",
    "    if (a1.size > 0):\n",
    "        a2 = np.argwhere(temp==0)\n",
    "        # check to see if the index position of 200 occurs before 0, if so add to the counter\n",
    "        if (a1[0][0] < a2[0][0]):\n",
    "            hit_2b1 += 1\n",
    "print(\"===========================================================================\")    \n",
    "print(\"The probability of hitting 200 before 0 is {}\".format(hit_2b1/10000))\n",
    "print(\"===========================================================================\")  "
   ]
  },
  {
   "cell_type": "markdown",
   "metadata": {},
   "source": [
    "#### (C) Repeat the above on a sample of 100,000 paths."
   ]
  },
  {
   "cell_type": "code",
   "execution_count": 16,
   "metadata": {},
   "outputs": [
    {
     "name": "stdout",
     "output_type": "stream",
     "text": [
      "===========================================================================\n",
      "The probability of hitting 200 before 0 is 2e-05\n",
      "===========================================================================\n"
     ]
    }
   ],
   "source": [
    "hit_2b2 = 0\n",
    "\n",
    "for _ in range(100_000):\n",
    "    # generate cummulative sum of the simulation, starting at 100\n",
    "    a = np.random.uniform(low=0.0,high=1.0,size=size)\n",
    "    v = np.cumsum(np.insert(np.where(a < success, 1, -1),0,100))\n",
    "    temp = v[1:]  # checks to see the sequence after starting \n",
    "    \n",
    "    # check to see if the path reaches 200\n",
    "    a1 = np.argwhere(temp==200)\n",
    "    \n",
    "    if (a1.size > 0):\n",
    "        a2 = np.argwhere(temp==0)\n",
    "        # check to see if the index position of 200 occurs before 0, if so add to the counter\n",
    "        if (a1[0][0] < a2[0][0]):\n",
    "            hit_2b2 += 1\n",
    "print(\"===========================================================================\")      \n",
    "print(\"The probability of hitting 200 before 0 is {}\".format(hit_2b2/100000))\n",
    "print(\"===========================================================================\")  "
   ]
  },
  {
   "cell_type": "markdown",
   "metadata": {},
   "source": [
    "#### (d) Repeat Question b) with starting fortune 80, 90? "
   ]
  },
  {
   "cell_type": "code",
   "execution_count": 13,
   "metadata": {},
   "outputs": [
    {
     "name": "stdout",
     "output_type": "stream",
     "text": [
      "===========================================================================\n",
      "The probability of hitting 200 before 0 starting at 180 is 0.1209\n",
      "===========================================================================\n"
     ]
    }
   ],
   "source": [
    "hit_2b3 = 0\n",
    "\n",
    "for _ in range(10_000):\n",
    "    # generate cummulative sum of the simulation, starting at 80\n",
    "    a = np.random.uniform(low=0.0,high=1.0,size=size)\n",
    "    v = np.cumsum(np.insert(np.where(a < success, 1, -1),0,180))\n",
    "    temp = v[1:]  # checks to see the sequence after starting \n",
    "    \n",
    "    # check to see if the path reaches 200\n",
    "    a1 = np.argwhere(temp==200)\n",
    "    \n",
    "    if (a1.size > 0):\n",
    "        a2 = np.argwhere(temp==0)\n",
    "        # check to see if the index position of 200 occurs before 0, if so add to the counter\n",
    "        if (a1[0][0] < a2[0][0]):\n",
    "            hit_2b3 += 1\n",
    "print(\"===========================================================================\")  \n",
    "print(\"The probability of hitting 200 before 0 starting at 180 is {}\".format(hit_2b3/10000))\n",
    "print(\"===========================================================================\")  "
   ]
  },
  {
   "cell_type": "code",
   "execution_count": 14,
   "metadata": {},
   "outputs": [
    {
     "name": "stdout",
     "output_type": "stream",
     "text": [
      "===========================================================================\n",
      "The probability of hitting 200 before 0 starting at 190 is 0.3483\n",
      "===========================================================================\n"
     ]
    }
   ],
   "source": [
    "hit_2b4 = 0\n",
    "\n",
    "for _ in range(10_000):\n",
    "    # generate cummulative sum of the simulation, starting at 90\n",
    "    a = np.random.uniform(low=0.0,high=1.0,size=size)\n",
    "    v = np.cumsum(np.insert(np.where(a < success, 1, -1),0,190))\n",
    "    temp = v[1:]  # checks to see the sequence after starting \n",
    "    \n",
    "    # check to see if the path reaches 200\n",
    "    a1 = np.argwhere(temp==200)\n",
    "    \n",
    "    if (a1.size > 0):\n",
    "        a2 = np.argwhere(temp==0)\n",
    "        # check to see if the index position of 200 occurs before 100, if so add to the counter\n",
    "        if (a1[0][0] < a2[0][0]):\n",
    "            hit_2b4 += 1\n",
    "print(\"===========================================================================\")      \n",
    "print(\"The probability of hitting 200 before 0 starting at 190 is {}\".format(hit_2b4/10000))\n",
    "print(\"===========================================================================\")  "
   ]
  },
  {
   "cell_type": "markdown",
   "metadata": {},
   "source": [
    "#### What is your guess for the starting amount that gives equal probability 1/2 to reach 200 and 0?"
   ]
  },
  {
   "cell_type": "markdown",
   "metadata": {},
   "source": [
    "Given the vast number of simulations required before we were able to simply arrive at 200, in order to achieve equal probaility of making 200 or going bust we would need to start at a value relatively close to 200, e.g., 194, 195. I have provided a simulation below to illustrate this hypothesis, with the correct starting amount being $\\approx$194, to arrive with equal probability of reaching 200 or 0. "
   ]
  },
  {
   "cell_type": "code",
   "execution_count": 15,
   "metadata": {},
   "outputs": [
    {
     "name": "stdout",
     "output_type": "stream",
     "text": [
      "..... at 10000 simulation(s) 200 has been hit exactly 5277\n",
      "..... at 20000 simulation(s) 200 has been hit exactly 10555\n",
      "..... at 30000 simulation(s) 200 has been hit exactly 15864\n",
      "..... at 40000 simulation(s) 200 has been hit exactly 21201\n",
      "..... at 50000 simulation(s) 200 has been hit exactly 26494\n",
      "..... at 60000 simulation(s) 200 has been hit exactly 31735\n",
      "..... at 70000 simulation(s) 200 has been hit exactly 37125\n",
      "..... at 80000 simulation(s) 200 has been hit exactly 42435\n",
      "..... at 90000 simulation(s) 200 has been hit exactly 47747\n",
      "..... at 100000 simulation(s) 200 has been hit exactly 53029\n",
      "-----------------------------------------------------------------------------------\n",
      "The probability of hitting 200 before going bust, starting at 194 is 0.53029\n"
     ]
    }
   ],
   "source": [
    "hit_equal = 0\n",
    "starting = 194\n",
    "\n",
    "for X in range(1, 100_001):\n",
    "    # generate cummulative sum of the simulation, starting at 90\n",
    "    a = np.random.uniform(low=0.0,high=1.0,size=size)\n",
    "    v = np.cumsum(np.insert(np.where(a < success, 1, -1),0,starting))\n",
    "    temp = v[1:]  # checks to see the sequence after starting \n",
    "    \n",
    "    # check to see if the path reaches 200\n",
    "    a1 = np.argwhere(temp==200)\n",
    "    \n",
    "    if (a1.size > 0):\n",
    "        a2 = np.argwhere(temp==0)\n",
    "        # check to see if the index position of 200 occurs before going bust, if so add to the counter\n",
    "        if (a1[0][0] < a2[0][0]):\n",
    "            hit_equal += 1\n",
    "            \n",
    "    if (X%10000 == 0):\n",
    "        print('..... at {} simulation(s) 200 has been hit exactly {}'.format(X, hit_equal))\n",
    "        \n",
    "print(\"-----------------------------------------------------------------------------------\")    \n",
    "print(\"The probability of hitting 200 before going bust, starting at {} is {}\".format(starting, hit_equal/100_000))"
   ]
  },
  {
   "cell_type": "code",
   "execution_count": null,
   "metadata": {},
   "outputs": [],
   "source": []
  }
 ],
 "metadata": {
  "kernelspec": {
   "display_name": "Python 3",
   "language": "python",
   "name": "python3"
  },
  "language_info": {
   "codemirror_mode": {
    "name": "ipython",
    "version": 3
   },
   "file_extension": ".py",
   "mimetype": "text/x-python",
   "name": "python",
   "nbconvert_exporter": "python",
   "pygments_lexer": "ipython3",
   "version": "3.7.0"
  }
 },
 "nbformat": 4,
 "nbformat_minor": 2
}
